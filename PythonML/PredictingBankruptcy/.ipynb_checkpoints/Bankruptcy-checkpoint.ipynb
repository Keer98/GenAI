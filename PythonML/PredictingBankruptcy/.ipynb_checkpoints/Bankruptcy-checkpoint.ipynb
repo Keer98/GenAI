{
 "cells": [
  {
   "cell_type": "markdown",
   "id": "4760c5b9-d4c4-49ba-a820-4cb0f5d6c5d5",
   "metadata": {},
   "source": [
    "<h2>Business Understanding</h2>\n",
    "<p>\n",
    "<b>Problem:</b> Accurately predict company bankruptcy.<br>\n",
    "<b>Objective:</b> Develop a model to identify companies at risk of bankruptcy early.<br>\n",
    "<b>Constraints:</b> Ensure data quality, keep the model simple yet effective, avoid unfairness, and make sure it works efficiently in the real world.\n",
    "</p>"
   ]
  },
  {
   "cell_type": "code",
   "execution_count": 47,
   "id": "73f6f1f2-251c-4862-85d1-33e101d942a3",
   "metadata": {},
   "outputs": [],
   "source": [
    "import pandas as pd\n",
    "import numpy as np\n",
    "import kagglehub\n",
    "import os\n",
    "import matplotlib.pyplot as plt\n",
    "import seaborn as sns\n",
    "import plotly.express as px\n",
    "from sklearn.model_selection import train_test_split, KFold, StratifiedKFold, cross_val_score\n",
    "from sklearn.linear_model import LogisticRegression\n",
    "from sklearn.preprocessing import StandardScaler\n",
    "from sklearn.metrics import confusion_matrix, accuracy_score, classification_report\n",
    "from sklearn.decomposition import PCA\n",
    "from imblearn.over_sampling import SMOTE\n",
    "from sklearn.metrics import roc_curve, roc_auc_score"
   ]
  },
  {
   "cell_type": "code",
   "execution_count": 48,
   "id": "9180aa0c-9f37-492c-b948-9a62805793e3",
   "metadata": {},
   "outputs": [
    {
     "name": "stdout",
     "output_type": "stream",
     "text": [
      "Warning: Looks like you're using an outdated `kagglehub` version, please consider updating (latest version: 0.3.3)\n",
      "Path to dataset files: C:\\Users\\keert\\.cache\\kagglehub\\datasets\\fedesoriano\\company-bankruptcy-prediction\\versions\\2\n",
      "Path to dataset files: C:\\Users\\keert\\.cache\\kagglehub\\datasets\\fedesoriano\\company-bankruptcy-prediction\\versions\\2\n",
      "Found CSV file: C:\\Users\\keert\\.cache\\kagglehub\\datasets\\fedesoriano\\company-bankruptcy-prediction\\versions\\2\\data.csv\n"
     ]
    }
   ],
   "source": [
    "path = kagglehub.dataset_download(\"fedesoriano/company-bankruptcy-prediction\")\n",
    "\n",
    "print(\"Path to dataset files:\", path)\n",
    "print(\"Path to dataset files:\", path)\n",
    "csv_file = None\n",
    "for file in os.listdir(path):\n",
    "    if file.endswith('.csv'):\n",
    "        csv_file = os.path.join(path, file)\n",
    "        break\n",
    "\n",
    "if csv_file is None:\n",
    "    print(\"No CSV file found in the directory.\")\n",
    "else:\n",
    "    print(f\"Found CSV file: {csv_file}\")\n"
   ]
  },
  {
   "cell_type": "code",
   "execution_count": 49,
   "id": "7d293aa2-c18b-4c10-809f-873dd804c2eb",
   "metadata": {},
   "outputs": [
    {
     "data": {
      "text/html": [
       "<div>\n",
       "<style scoped>\n",
       "    .dataframe tbody tr th:only-of-type {\n",
       "        vertical-align: middle;\n",
       "    }\n",
       "\n",
       "    .dataframe tbody tr th {\n",
       "        vertical-align: top;\n",
       "    }\n",
       "\n",
       "    .dataframe thead th {\n",
       "        text-align: right;\n",
       "    }\n",
       "</style>\n",
       "<table border=\"1\" class=\"dataframe\">\n",
       "  <thead>\n",
       "    <tr style=\"text-align: right;\">\n",
       "      <th></th>\n",
       "      <th>Bankrupt?</th>\n",
       "      <th>ROA(C) before interest and depreciation before interest</th>\n",
       "      <th>ROA(A) before interest and % after tax</th>\n",
       "      <th>ROA(B) before interest and depreciation after tax</th>\n",
       "      <th>Operating Gross Margin</th>\n",
       "      <th>Realized Sales Gross Margin</th>\n",
       "      <th>Operating Profit Rate</th>\n",
       "      <th>Pre-tax net Interest Rate</th>\n",
       "      <th>After-tax net Interest Rate</th>\n",
       "      <th>Non-industry income and expenditure/revenue</th>\n",
       "      <th>...</th>\n",
       "      <th>Net Income to Total Assets</th>\n",
       "      <th>Total assets to GNP price</th>\n",
       "      <th>No-credit Interval</th>\n",
       "      <th>Gross Profit to Sales</th>\n",
       "      <th>Net Income to Stockholder's Equity</th>\n",
       "      <th>Liability to Equity</th>\n",
       "      <th>Degree of Financial Leverage (DFL)</th>\n",
       "      <th>Interest Coverage Ratio (Interest expense to EBIT)</th>\n",
       "      <th>Net Income Flag</th>\n",
       "      <th>Equity to Liability</th>\n",
       "    </tr>\n",
       "  </thead>\n",
       "  <tbody>\n",
       "    <tr>\n",
       "      <th>0</th>\n",
       "      <td>1</td>\n",
       "      <td>0.370594</td>\n",
       "      <td>0.424389</td>\n",
       "      <td>0.405750</td>\n",
       "      <td>0.601457</td>\n",
       "      <td>0.601457</td>\n",
       "      <td>0.998969</td>\n",
       "      <td>0.796887</td>\n",
       "      <td>0.808809</td>\n",
       "      <td>0.302646</td>\n",
       "      <td>...</td>\n",
       "      <td>0.716845</td>\n",
       "      <td>0.009219</td>\n",
       "      <td>0.622879</td>\n",
       "      <td>0.601453</td>\n",
       "      <td>0.827890</td>\n",
       "      <td>0.290202</td>\n",
       "      <td>0.026601</td>\n",
       "      <td>0.564050</td>\n",
       "      <td>1</td>\n",
       "      <td>0.016469</td>\n",
       "    </tr>\n",
       "    <tr>\n",
       "      <th>1</th>\n",
       "      <td>1</td>\n",
       "      <td>0.464291</td>\n",
       "      <td>0.538214</td>\n",
       "      <td>0.516730</td>\n",
       "      <td>0.610235</td>\n",
       "      <td>0.610235</td>\n",
       "      <td>0.998946</td>\n",
       "      <td>0.797380</td>\n",
       "      <td>0.809301</td>\n",
       "      <td>0.303556</td>\n",
       "      <td>...</td>\n",
       "      <td>0.795297</td>\n",
       "      <td>0.008323</td>\n",
       "      <td>0.623652</td>\n",
       "      <td>0.610237</td>\n",
       "      <td>0.839969</td>\n",
       "      <td>0.283846</td>\n",
       "      <td>0.264577</td>\n",
       "      <td>0.570175</td>\n",
       "      <td>1</td>\n",
       "      <td>0.020794</td>\n",
       "    </tr>\n",
       "    <tr>\n",
       "      <th>2</th>\n",
       "      <td>1</td>\n",
       "      <td>0.426071</td>\n",
       "      <td>0.499019</td>\n",
       "      <td>0.472295</td>\n",
       "      <td>0.601450</td>\n",
       "      <td>0.601364</td>\n",
       "      <td>0.998857</td>\n",
       "      <td>0.796403</td>\n",
       "      <td>0.808388</td>\n",
       "      <td>0.302035</td>\n",
       "      <td>...</td>\n",
       "      <td>0.774670</td>\n",
       "      <td>0.040003</td>\n",
       "      <td>0.623841</td>\n",
       "      <td>0.601449</td>\n",
       "      <td>0.836774</td>\n",
       "      <td>0.290189</td>\n",
       "      <td>0.026555</td>\n",
       "      <td>0.563706</td>\n",
       "      <td>1</td>\n",
       "      <td>0.016474</td>\n",
       "    </tr>\n",
       "    <tr>\n",
       "      <th>3</th>\n",
       "      <td>1</td>\n",
       "      <td>0.399844</td>\n",
       "      <td>0.451265</td>\n",
       "      <td>0.457733</td>\n",
       "      <td>0.583541</td>\n",
       "      <td>0.583541</td>\n",
       "      <td>0.998700</td>\n",
       "      <td>0.796967</td>\n",
       "      <td>0.808966</td>\n",
       "      <td>0.303350</td>\n",
       "      <td>...</td>\n",
       "      <td>0.739555</td>\n",
       "      <td>0.003252</td>\n",
       "      <td>0.622929</td>\n",
       "      <td>0.583538</td>\n",
       "      <td>0.834697</td>\n",
       "      <td>0.281721</td>\n",
       "      <td>0.026697</td>\n",
       "      <td>0.564663</td>\n",
       "      <td>1</td>\n",
       "      <td>0.023982</td>\n",
       "    </tr>\n",
       "    <tr>\n",
       "      <th>4</th>\n",
       "      <td>1</td>\n",
       "      <td>0.465022</td>\n",
       "      <td>0.538432</td>\n",
       "      <td>0.522298</td>\n",
       "      <td>0.598783</td>\n",
       "      <td>0.598783</td>\n",
       "      <td>0.998973</td>\n",
       "      <td>0.797366</td>\n",
       "      <td>0.809304</td>\n",
       "      <td>0.303475</td>\n",
       "      <td>...</td>\n",
       "      <td>0.795016</td>\n",
       "      <td>0.003878</td>\n",
       "      <td>0.623521</td>\n",
       "      <td>0.598782</td>\n",
       "      <td>0.839973</td>\n",
       "      <td>0.278514</td>\n",
       "      <td>0.024752</td>\n",
       "      <td>0.575617</td>\n",
       "      <td>1</td>\n",
       "      <td>0.035490</td>\n",
       "    </tr>\n",
       "  </tbody>\n",
       "</table>\n",
       "<p>5 rows × 96 columns</p>\n",
       "</div>"
      ],
      "text/plain": [
       "   Bankrupt?   ROA(C) before interest and depreciation before interest  \\\n",
       "0          1                                           0.370594          \n",
       "1          1                                           0.464291          \n",
       "2          1                                           0.426071          \n",
       "3          1                                           0.399844          \n",
       "4          1                                           0.465022          \n",
       "\n",
       "    ROA(A) before interest and % after tax  \\\n",
       "0                                 0.424389   \n",
       "1                                 0.538214   \n",
       "2                                 0.499019   \n",
       "3                                 0.451265   \n",
       "4                                 0.538432   \n",
       "\n",
       "    ROA(B) before interest and depreciation after tax  \\\n",
       "0                                           0.405750    \n",
       "1                                           0.516730    \n",
       "2                                           0.472295    \n",
       "3                                           0.457733    \n",
       "4                                           0.522298    \n",
       "\n",
       "    Operating Gross Margin   Realized Sales Gross Margin  \\\n",
       "0                 0.601457                      0.601457   \n",
       "1                 0.610235                      0.610235   \n",
       "2                 0.601450                      0.601364   \n",
       "3                 0.583541                      0.583541   \n",
       "4                 0.598783                      0.598783   \n",
       "\n",
       "    Operating Profit Rate   Pre-tax net Interest Rate  \\\n",
       "0                0.998969                    0.796887   \n",
       "1                0.998946                    0.797380   \n",
       "2                0.998857                    0.796403   \n",
       "3                0.998700                    0.796967   \n",
       "4                0.998973                    0.797366   \n",
       "\n",
       "    After-tax net Interest Rate   Non-industry income and expenditure/revenue  \\\n",
       "0                      0.808809                                      0.302646   \n",
       "1                      0.809301                                      0.303556   \n",
       "2                      0.808388                                      0.302035   \n",
       "3                      0.808966                                      0.303350   \n",
       "4                      0.809304                                      0.303475   \n",
       "\n",
       "   ...   Net Income to Total Assets   Total assets to GNP price  \\\n",
       "0  ...                     0.716845                    0.009219   \n",
       "1  ...                     0.795297                    0.008323   \n",
       "2  ...                     0.774670                    0.040003   \n",
       "3  ...                     0.739555                    0.003252   \n",
       "4  ...                     0.795016                    0.003878   \n",
       "\n",
       "    No-credit Interval   Gross Profit to Sales  \\\n",
       "0             0.622879                0.601453   \n",
       "1             0.623652                0.610237   \n",
       "2             0.623841                0.601449   \n",
       "3             0.622929                0.583538   \n",
       "4             0.623521                0.598782   \n",
       "\n",
       "    Net Income to Stockholder's Equity   Liability to Equity  \\\n",
       "0                             0.827890              0.290202   \n",
       "1                             0.839969              0.283846   \n",
       "2                             0.836774              0.290189   \n",
       "3                             0.834697              0.281721   \n",
       "4                             0.839973              0.278514   \n",
       "\n",
       "    Degree of Financial Leverage (DFL)  \\\n",
       "0                             0.026601   \n",
       "1                             0.264577   \n",
       "2                             0.026555   \n",
       "3                             0.026697   \n",
       "4                             0.024752   \n",
       "\n",
       "    Interest Coverage Ratio (Interest expense to EBIT)   Net Income Flag  \\\n",
       "0                                           0.564050                   1   \n",
       "1                                           0.570175                   1   \n",
       "2                                           0.563706                   1   \n",
       "3                                           0.564663                   1   \n",
       "4                                           0.575617                   1   \n",
       "\n",
       "    Equity to Liability  \n",
       "0              0.016469  \n",
       "1              0.020794  \n",
       "2              0.016474  \n",
       "3              0.023982  \n",
       "4              0.035490  \n",
       "\n",
       "[5 rows x 96 columns]"
      ]
     },
     "execution_count": 49,
     "metadata": {},
     "output_type": "execute_result"
    }
   ],
   "source": [
    "df = pd.read_csv(csv_file, delimiter=',')\n",
    "df.head()"
   ]
  },
  {
   "cell_type": "code",
   "execution_count": 50,
   "id": "c74ff9fa-0faf-48ea-adc1-6ad133f1231c",
   "metadata": {},
   "outputs": [
    {
     "name": "stdout",
     "output_type": "stream",
     "text": [
      "<class 'pandas.core.frame.DataFrame'>\n",
      "RangeIndex: 6819 entries, 0 to 6818\n",
      "Data columns (total 96 columns):\n",
      " #   Column                                                    Non-Null Count  Dtype  \n",
      "---  ------                                                    --------------  -----  \n",
      " 0   Bankrupt?                                                 6819 non-null   int64  \n",
      " 1    ROA(C) before interest and depreciation before interest  6819 non-null   float64\n",
      " 2    ROA(A) before interest and % after tax                   6819 non-null   float64\n",
      " 3    ROA(B) before interest and depreciation after tax        6819 non-null   float64\n",
      " 4    Operating Gross Margin                                   6819 non-null   float64\n",
      " 5    Realized Sales Gross Margin                              6819 non-null   float64\n",
      " 6    Operating Profit Rate                                    6819 non-null   float64\n",
      " 7    Pre-tax net Interest Rate                                6819 non-null   float64\n",
      " 8    After-tax net Interest Rate                              6819 non-null   float64\n",
      " 9    Non-industry income and expenditure/revenue              6819 non-null   float64\n",
      " 10   Continuous interest rate (after tax)                     6819 non-null   float64\n",
      " 11   Operating Expense Rate                                   6819 non-null   float64\n",
      " 12   Research and development expense rate                    6819 non-null   float64\n",
      " 13   Cash flow rate                                           6819 non-null   float64\n",
      " 14   Interest-bearing debt interest rate                      6819 non-null   float64\n",
      " 15   Tax rate (A)                                             6819 non-null   float64\n",
      " 16   Net Value Per Share (B)                                  6819 non-null   float64\n",
      " 17   Net Value Per Share (A)                                  6819 non-null   float64\n",
      " 18   Net Value Per Share (C)                                  6819 non-null   float64\n",
      " 19   Persistent EPS in the Last Four Seasons                  6819 non-null   float64\n",
      " 20   Cash Flow Per Share                                      6819 non-null   float64\n",
      " 21   Revenue Per Share (Yuan ¥)                               6819 non-null   float64\n",
      " 22   Operating Profit Per Share (Yuan ¥)                      6819 non-null   float64\n",
      " 23   Per Share Net profit before tax (Yuan ¥)                 6819 non-null   float64\n",
      " 24   Realized Sales Gross Profit Growth Rate                  6819 non-null   float64\n",
      " 25   Operating Profit Growth Rate                             6819 non-null   float64\n",
      " 26   After-tax Net Profit Growth Rate                         6819 non-null   float64\n",
      " 27   Regular Net Profit Growth Rate                           6819 non-null   float64\n",
      " 28   Continuous Net Profit Growth Rate                        6819 non-null   float64\n",
      " 29   Total Asset Growth Rate                                  6819 non-null   float64\n",
      " 30   Net Value Growth Rate                                    6819 non-null   float64\n",
      " 31   Total Asset Return Growth Rate Ratio                     6819 non-null   float64\n",
      " 32   Cash Reinvestment %                                      6819 non-null   float64\n",
      " 33   Current Ratio                                            6819 non-null   float64\n",
      " 34   Quick Ratio                                              6819 non-null   float64\n",
      " 35   Interest Expense Ratio                                   6819 non-null   float64\n",
      " 36   Total debt/Total net worth                               6819 non-null   float64\n",
      " 37   Debt ratio %                                             6819 non-null   float64\n",
      " 38   Net worth/Assets                                         6819 non-null   float64\n",
      " 39   Long-term fund suitability ratio (A)                     6819 non-null   float64\n",
      " 40   Borrowing dependency                                     6819 non-null   float64\n",
      " 41   Contingent liabilities/Net worth                         6819 non-null   float64\n",
      " 42   Operating profit/Paid-in capital                         6819 non-null   float64\n",
      " 43   Net profit before tax/Paid-in capital                    6819 non-null   float64\n",
      " 44   Inventory and accounts receivable/Net value              6819 non-null   float64\n",
      " 45   Total Asset Turnover                                     6819 non-null   float64\n",
      " 46   Accounts Receivable Turnover                             6819 non-null   float64\n",
      " 47   Average Collection Days                                  6819 non-null   float64\n",
      " 48   Inventory Turnover Rate (times)                          6819 non-null   float64\n",
      " 49   Fixed Assets Turnover Frequency                          6819 non-null   float64\n",
      " 50   Net Worth Turnover Rate (times)                          6819 non-null   float64\n",
      " 51   Revenue per person                                       6819 non-null   float64\n",
      " 52   Operating profit per person                              6819 non-null   float64\n",
      " 53   Allocation rate per person                               6819 non-null   float64\n",
      " 54   Working Capital to Total Assets                          6819 non-null   float64\n",
      " 55   Quick Assets/Total Assets                                6819 non-null   float64\n",
      " 56   Current Assets/Total Assets                              6819 non-null   float64\n",
      " 57   Cash/Total Assets                                        6819 non-null   float64\n",
      " 58   Quick Assets/Current Liability                           6819 non-null   float64\n",
      " 59   Cash/Current Liability                                   6819 non-null   float64\n",
      " 60   Current Liability to Assets                              6819 non-null   float64\n",
      " 61   Operating Funds to Liability                             6819 non-null   float64\n",
      " 62   Inventory/Working Capital                                6819 non-null   float64\n",
      " 63   Inventory/Current Liability                              6819 non-null   float64\n",
      " 64   Current Liabilities/Liability                            6819 non-null   float64\n",
      " 65   Working Capital/Equity                                   6819 non-null   float64\n",
      " 66   Current Liabilities/Equity                               6819 non-null   float64\n",
      " 67   Long-term Liability to Current Assets                    6819 non-null   float64\n",
      " 68   Retained Earnings to Total Assets                        6819 non-null   float64\n",
      " 69   Total income/Total expense                               6819 non-null   float64\n",
      " 70   Total expense/Assets                                     6819 non-null   float64\n",
      " 71   Current Asset Turnover Rate                              6819 non-null   float64\n",
      " 72   Quick Asset Turnover Rate                                6819 non-null   float64\n",
      " 73   Working capitcal Turnover Rate                           6819 non-null   float64\n",
      " 74   Cash Turnover Rate                                       6819 non-null   float64\n",
      " 75   Cash Flow to Sales                                       6819 non-null   float64\n",
      " 76   Fixed Assets to Assets                                   6819 non-null   float64\n",
      " 77   Current Liability to Liability                           6819 non-null   float64\n",
      " 78   Current Liability to Equity                              6819 non-null   float64\n",
      " 79   Equity to Long-term Liability                            6819 non-null   float64\n",
      " 80   Cash Flow to Total Assets                                6819 non-null   float64\n",
      " 81   Cash Flow to Liability                                   6819 non-null   float64\n",
      " 82   CFO to Assets                                            6819 non-null   float64\n",
      " 83   Cash Flow to Equity                                      6819 non-null   float64\n",
      " 84   Current Liability to Current Assets                      6819 non-null   float64\n",
      " 85   Liability-Assets Flag                                    6819 non-null   int64  \n",
      " 86   Net Income to Total Assets                               6819 non-null   float64\n",
      " 87   Total assets to GNP price                                6819 non-null   float64\n",
      " 88   No-credit Interval                                       6819 non-null   float64\n",
      " 89   Gross Profit to Sales                                    6819 non-null   float64\n",
      " 90   Net Income to Stockholder's Equity                       6819 non-null   float64\n",
      " 91   Liability to Equity                                      6819 non-null   float64\n",
      " 92   Degree of Financial Leverage (DFL)                       6819 non-null   float64\n",
      " 93   Interest Coverage Ratio (Interest expense to EBIT)       6819 non-null   float64\n",
      " 94   Net Income Flag                                          6819 non-null   int64  \n",
      " 95   Equity to Liability                                      6819 non-null   float64\n",
      "dtypes: float64(93), int64(3)\n",
      "memory usage: 5.0 MB\n"
     ]
    }
   ],
   "source": [
    "df.info()"
   ]
  },
  {
   "cell_type": "code",
   "execution_count": 51,
   "id": "0e96ab55-cba2-4461-a2e6-3dbc60ba2a5b",
   "metadata": {},
   "outputs": [
    {
     "data": {
      "text/plain": [
       "Bankrupt?\n",
       "0    6599\n",
       "1     220\n",
       "Name: count, dtype: int64"
      ]
     },
     "execution_count": 51,
     "metadata": {},
     "output_type": "execute_result"
    }
   ],
   "source": [
    "df['Bankrupt?'].value_counts()"
   ]
  },
  {
   "cell_type": "markdown",
   "id": "24613421-cfad-4537-9a9e-abb4a500570d",
   "metadata": {},
   "source": [
    "<h2>X -> Independent features<br>\n",
    "Y -> Dependent feature -> 0: Bankrupt; 1: Not Bankrupt</h2>"
   ]
  },
  {
   "cell_type": "code",
   "execution_count": 52,
   "id": "1fd40f4f-4fa5-4341-900f-3d970623b05e",
   "metadata": {},
   "outputs": [],
   "source": [
    "X_df=df.drop('Bankrupt?',axis=1)\n",
    "Y_df=df['Bankrupt?']"
   ]
  },
  {
   "cell_type": "markdown",
   "id": "771a7af0-6536-417a-8c0f-e8e7129870c2",
   "metadata": {},
   "source": [
    "<h4>Split data into training and testing sets</h4>"
   ]
  },
  {
   "cell_type": "code",
   "execution_count": 53,
   "id": "daee85ef-2814-4919-b655-0451bcdd7c5d",
   "metadata": {},
   "outputs": [],
   "source": [
    "# Split data into training and testing sets\n",
    "X_train, X_test, y_train, y_test = train_test_split(X_df, Y_df, test_size=0.2,random_state=42)\n"
   ]
  },
  {
   "cell_type": "markdown",
   "id": "d1d15b59-6c50-4912-acff-9cc28e46df73",
   "metadata": {},
   "source": [
    "<h3>SMOTE (Synthetic Minority Over-sampling Technique) </h3>\n",
    "<p>SMOTE is a technique used to address class imbalance by generating synthetic data points for the minority class.<br>\n",
    "SMOTE generates synthetic data points for the minority class by interpolating between existing minority class samples and their nearest neighbors to balance the dataset.</p>"
   ]
  },
  {
   "cell_type": "code",
   "execution_count": 54,
   "id": "ee8b3186-675c-49d7-b87c-1d0a42795bc6",
   "metadata": {},
   "outputs": [],
   "source": [
    "# Apply SMOTE to oversample the minority class\n",
    "sm = SMOTE(random_state=42)\n",
    "X_train_resampled, y_train_resampled = sm.fit_resample(X_train,  y_train)"
   ]
  },
  {
   "cell_type": "markdown",
   "id": "da79b567-078b-4849-8dfd-065295883b07",
   "metadata": {},
   "source": [
    "<h3>Standardize numerical features</h3>"
   ]
  },
  {
   "cell_type": "code",
   "execution_count": 55,
   "id": "53ec084a-f40c-4db3-829c-4301ffd63756",
   "metadata": {},
   "outputs": [],
   "source": [
    "# Standardize numerical features\n",
    "scaler = StandardScaler()\n",
    "X_train_scaled = scaler.fit_transform(X_train_resampled)\n",
    "X_test_scaled = scaler.transform(X_test)"
   ]
  },
  {
   "cell_type": "markdown",
   "id": "3b4bbb58-fa9b-4957-b705-ee281fcbe8be",
   "metadata": {},
   "source": [
    "<h3>Principal Component Analysis (PCA)</h3>\n",
    "<p>Principal Component Analysis (PCA) is a dimensionality reduction technique that transforms data into a smaller set of uncorrelated variables (principal components), capturing the most significant variance in the dataset.<br><br>\n",
    "Fit PCA and determine components( 85% of the variance)<br>Transform data using PCA<br>\n",
    "Displays the explained variance for each component and its cumulative sum to understand how much of the original data variability is retained.<br>\n",
    "Prints and plots loadings of the first principal component, showing the contribution of each feature to that component.</p>"
   ]
  },
  {
   "cell_type": "code",
   "execution_count": 56,
   "id": "29e9bab7-820f-4e99-a41d-dcc1f03c0dbf",
   "metadata": {},
   "outputs": [
    {
     "name": "stdout",
     "output_type": "stream",
     "text": [
      "Dimension of Training dataset: (5455, 95)\n",
      "Dimension of Training dataset after applying PCA: (10572, 37)\n",
      "[0.16682221 0.07258147 0.05463032 0.04216584 0.04029585 0.03190244\n",
      " 0.03003174 0.02835773 0.02748409 0.0219037  0.01995538 0.01935328\n",
      " 0.01781212 0.01735559 0.01570317 0.01553614 0.0141291  0.01397185\n",
      " 0.0136169  0.012598   0.01211071 0.01189165 0.01182888 0.01141867\n",
      " 0.01126623 0.01106157 0.01096337 0.01079953 0.01076172 0.01047314\n",
      " 0.01035236 0.01024648 0.01007115 0.00966082 0.00948794 0.00920209\n",
      " 0.00891614]\n",
      "[0.16682221 0.23940368 0.29403399 0.33619983 0.37649568 0.40839812\n",
      " 0.43842986 0.46678758 0.49427167 0.51617537 0.53613075 0.55548403\n",
      " 0.57329615 0.59065174 0.60635491 0.62189106 0.63602016 0.64999201\n",
      " 0.6636089  0.6762069  0.68831761 0.70020926 0.71203814 0.72345682\n",
      " 0.73472305 0.74578462 0.75674799 0.76754752 0.77830924 0.78878238\n",
      " 0.79913474 0.80938122 0.81945237 0.82911319 0.83860113 0.84780322\n",
      " 0.85671935]\n",
      "[[ 0.21329617  0.2116827   0.21031713 ...  0.00818928  0.\n",
      "   0.07156004]\n",
      " [ 0.09312288  0.10724796  0.09500007 ...  0.00217112 -0.\n",
      "  -0.02321684]\n",
      " [-0.08818013 -0.08072704 -0.09932406 ... -0.00139527 -0.\n",
      "   0.02683544]\n",
      " ...\n",
      " [ 0.00448766  0.04693327  0.01775    ...  0.16071201  0.\n",
      "   0.04319288]\n",
      " [ 0.06594568  0.06033091  0.06148837 ... -0.31959184  0.\n",
      "   0.01255072]\n",
      " [ 0.01097981 -0.00528334  0.00621576 ...  0.00777727 -0.\n",
      "   0.01811575]]\n"
     ]
    },
    {
     "data": {
      "image/png": "[encoded data removed]",
      "text/plain": [
       "<Figure size 1000x600 with 1 Axes>"
      ]
     },
     "metadata": {},
     "output_type": "display_data"
    }
   ],
   "source": [
    "'''pca = PCA()\n",
    "pca.fit(X_train_scaled)\n",
    "\n",
    "threshold = 0.95\n",
    "n_components = np.argmax(pca.explained_variance_ratio_.cumsum() >= threshold) + 1'''\n",
    "# Apply PCA with the chosen number of components\n",
    "pca = PCA(n_components=0.85)\n",
    "\n",
    "X_train_pca = pca.fit_transform(X_train_scaled)\n",
    "X_test_pca = pca.transform(X_test_scaled)\n",
    "\n",
    "print(f'Dimension of Training dataset: {X_train.shape}')\n",
    "print(f'Dimension of Training dataset after applying PCA: {X_train_pca.shape}')\n",
    "\n",
    "# Choose the number of components to retain (e.g., to explain 95% of the variance)\n",
    "\n",
    "print(f'{pca.explained_variance_ratio_}')\n",
    "print(pca.explained_variance_ratio_.cumsum())\n",
    "\n",
    "loadings = pca.components_\n",
    "# Print the loadings\n",
    "print(loadings)\n",
    "# Visualize the loadings (e.g., for the first two principal components)\n",
    "plt.figure(figsize=(10, 6))\n",
    "plt.bar(range(1, len(loadings[0]) + 1), loadings[0])\n",
    "plt.xlabel('Feature Index')\n",
    "plt.ylabel('Loading')\n",
    "plt.title('Loadings for the First Principal Component')\n",
    "plt.show()\n"
   ]
  },
  {
   "cell_type": "markdown",
   "id": "1dcdcb40-5c91-4203-9f8c-bdbca2d030f7",
   "metadata": {},
   "source": [
    "<h1>With K-Fold Cross Validation</h1>"
   ]
  },
  {
   "cell_type": "code",
   "execution_count": 57,
   "id": "38ea66ce-9d62-4b09-806a-0564e3563f26",
   "metadata": {},
   "outputs": [
    {
     "name": "stdout",
     "output_type": "stream",
     "text": [
      "Cross-validation accuracies for each fold: [0.89172577 0.90307329 0.91438032 0.89735099 0.89498581]\n",
      "Mean cross-validation accuracy: 0.900303235661838\n",
      "Test set accuracy: 0.870\n",
      "Confusion Matrix:\n",
      "[[1151  162]\n",
      " [  15   36]]\n"
     ]
    },
    {
     "data": {
      "image/png": "[encoded data removed]",
      "text/plain": [
       "<Figure size 640x480 with 2 Axes>"
      ]
     },
     "metadata": {},
     "output_type": "display_data"
    },
    {
     "name": "stdout",
     "output_type": "stream",
     "text": [
      "Accuracy: 87.02%\n",
      "\n",
      "Classification Report:\n",
      "              precision    recall  f1-score   support\n",
      "\n",
      "           0       0.99      0.88      0.93      1313\n",
      "           1       0.18      0.71      0.29        51\n",
      "\n",
      "    accuracy                           0.87      1364\n",
      "   macro avg       0.58      0.79      0.61      1364\n",
      "weighted avg       0.96      0.87      0.90      1364\n",
      "\n"
     ]
    }
   ],
   "source": [
    "model = LogisticRegression()\n",
    "# K-Fold Cross-Validation\n",
    "kfold = KFold(n_splits=5, shuffle=True, random_state=42)\n",
    "\n",
    "cv_results = cross_val_score(model, X_train_pca,  y_train_resampled, cv=kfold, scoring='accuracy')\n",
    "# Print the cross-validation accuracy for each fold\n",
    "print(\"Cross-validation accuracies for each fold:\", cv_results)\n",
    "\n",
    "# Print the mean accuracy across all folds\n",
    "print(\"Mean cross-validation accuracy:\", cv_results.mean())\n",
    "# Train the model on the entire training set\n",
    "model.fit(X_train_pca,  y_train_resampled)\n",
    "\n",
    "# Test the model on the testing set and output accuracy\n",
    "y_test_pred = model.predict(X_test_pca)\n",
    "test_accuracy = accuracy_score(y_test, y_test_pred)\n",
    "print(f\"Test set accuracy: {test_accuracy:.3f}\")\n",
    "\n",
    "# Calculate the confusion matrix\n",
    "conf_matrix = confusion_matrix(y_test, y_test_pred)\n",
    "\n",
    "# Print the confusion matrix\n",
    "print(\"Confusion Matrix:\")\n",
    "print(conf_matrix)\n",
    "\n",
    "# Plot the confusion matrix using seaborn heatmap\n",
    "sns.heatmap(conf_matrix, annot=True, fmt='d', cmap='Blues')\n",
    "plt.title('Confusion Matrix')\n",
    "plt.xlabel('Predicted')\n",
    "plt.ylabel('Actual')\n",
    "plt.show()\n",
    "\n",
    "# Calculate accuracy\n",
    "accuracy = accuracy_score(y_test, y_test_pred)\n",
    "print(f\"Accuracy: {accuracy * 100:.2f}%\")\n",
    "\n",
    "# Print classification report for precision, recall, and F1-score\n",
    "print(\"\\nClassification Report:\")\n",
    "print(classification_report(y_test, y_test_pred))\n"
   ]
  },
  {
   "cell_type": "markdown",
   "id": "d0c46ff2-17e1-4ee8-84c5-4594d9122770",
   "metadata": {},
   "source": [
    "<h2>Model Building</h2><p>trains a logistic regression model<br> and evaluates its performance using a confusion matrix, accuracy, and a classification report.</p>\n",
    "<h3>Confusion Matrix </h3><p>A confusion matrix is a table that summarizes the performance of a classification model on a set of test data</p>"
   ]
  },
  {
   "cell_type": "markdown",
   "id": "21fb4dcc-8ec7-44a2-bbfa-e97d7d5f31a6",
   "metadata": {},
   "source": [
    "<h1>With Stratified K-Fold Cross Validation</h1>\n",
    "<p>Stratified K-Fold Cross-Validation is a technique used to ensure that the proportion of samples for each class is approximately equal in all folds, especially useful for imbalanced datasets. </p>"
   ]
  },
  {
   "cell_type": "code",
   "execution_count": 58,
   "id": "32033a75-8f35-4a4e-8861-a3faaf356473",
   "metadata": {},
   "outputs": [
    {
     "name": "stdout",
     "output_type": "stream",
     "text": [
      "Cross-validation accuracies for each fold: [0.91070594 0.90808824 0.89794007 0.90316574 0.89064681]\n",
      "Mean cross-validation accuracy: 0.9021093591186551\n",
      "Test set accuracy: 0.870\n",
      "Confusion Matrix:\n",
      "[[1151  162]\n",
      " [  15   36]]\n"
     ]
    },
    {
     "data": {
      "image/png": "[encoded data removed]",
      "text/plain": [
       "<Figure size 640x480 with 2 Axes>"
      ]
     },
     "metadata": {},
     "output_type": "display_data"
    },
    {
     "name": "stdout",
     "output_type": "stream",
     "text": [
      "Accuracy: 87.02%\n",
      "\n",
      "Classification Report:\n",
      "              precision    recall  f1-score   support\n",
      "\n",
      "           0       0.99      0.88      0.93      1313\n",
      "           1       0.18      0.71      0.29        51\n",
      "\n",
      "    accuracy                           0.87      1364\n",
      "   macro avg       0.58      0.79      0.61      1364\n",
      "weighted avg       0.96      0.87      0.90      1364\n",
      "\n"
     ]
    }
   ],
   "source": [
    "model = LogisticRegression()\n",
    "# StratifiedKFold Cross-Validation\n",
    "stratified_kfold = StratifiedKFold(n_splits=5, shuffle=True, random_state=42)\n",
    "\n",
    "cv_results = cross_val_score(model, X_train_pca,  y_train_resampled, cv=stratified_kfold, scoring='f1')\n",
    "# Print the cross-validation accuracy for each fold\n",
    "print(\"Cross-validation accuracies for each fold:\", cv_results)\n",
    "\n",
    "# Print the mean accuracy across all folds\n",
    "print(\"Mean cross-validation accuracy:\", cv_results.mean())\n",
    "# Train the model on the entire training set\n",
    "model.fit(X_train_pca,  y_train_resampled)\n",
    "\n",
    "# Test the model on the testing set and output accuracy\n",
    "y_test_pred = model.predict(X_test_pca)\n",
    "test_accuracy = accuracy_score(y_test, y_test_pred)\n",
    "print(f\"Test set accuracy: {test_accuracy:.3f}\")\n",
    "\n",
    "# Calculate the confusion matrix\n",
    "conf_matrix = confusion_matrix(y_test, y_test_pred)\n",
    "\n",
    "# Print the confusion matrix\n",
    "print(\"Confusion Matrix:\")\n",
    "print(conf_matrix)\n",
    "\n",
    "# Plot the confusion matrix using seaborn heatmap\n",
    "sns.heatmap(conf_matrix, annot=True, fmt='d', cmap='Blues')\n",
    "plt.title('Confusion Matrix')\n",
    "plt.xlabel('Predicted')\n",
    "plt.ylabel('Actual')\n",
    "plt.show()\n",
    "\n",
    "# Calculate accuracy\n",
    "accuracy = accuracy_score(y_test, y_test_pred)\n",
    "print(f\"Accuracy: {accuracy * 100:.2f}%\")\n",
    "\n",
    "# Print classification report for precision, recall, and F1-score\n",
    "print(\"\\nClassification Report:\")\n",
    "print(classification_report(y_test, y_test_pred))\n"
   ]
  },
  {
   "cell_type": "markdown",
   "id": "05ebb702-89a4-42b1-b522-dde9f4653ac2",
   "metadata": {},
   "source": [
    "<p><b>True Positive (TP):</b> 36 instances were correctly predicted as bankrupt.<br>\n",
    "<b>False Positive (FP):</b> 162 instances were incorrectly predicted as bankrupt.<br>\n",
    "<b>False Negative (FN):</b> 15 instances were incorrectly predicted as non-bankrupt.<br>\n",
    "<b>True Negative (TN):</b> 1151 instances were correctly predicted as non-bankrupt.<br>\n",
    "</p>\n",
    "<p><b>Precision:</b> The proportion of positive predictions that were actually positive.<br>\n",
    "<b>For class 0 (non-bankrupt):</b> 99% of predicted non-bankrupt cases were actually non-bankrupt.<br>\n",
    "<b>For class 1 (bankrupt):</b> 18% of predicted bankrupt cases were actually bankrupt.<br>\n",
    "<b>Recall:</b> The proportion of actual positive cases that were correctly identified.<br>\n",
    "<b>For class 0:</b> 88% of actual non-bankrupt cases were correctly identified.<br>\n",
    "<b>For class 1:</b> 71% of actual bankrupt cases were correctly identified.<br>\n",
    "<b>F1-score:</b> The harmonic mean of precision and recall, balancing both metrics.<br>\n",
    "<b>Support:</b> The number of samples in each class.<br></p>\n",
    "<p>"
   ]
  },
  {
   "cell_type": "markdown",
   "id": "51e91be1-bb7d-458c-9231-0306be943566",
   "metadata": {},
   "source": [
    "<h1>AUC-ROC</h1>It is used to evaluate the performance of a binary classification model."
   ]
  },
  {
   "cell_type": "code",
   "execution_count": 59,
   "id": "eb894b72-fc7a-45ea-844f-42723ae732fa",
   "metadata": {},
   "outputs": [
    {
     "data": {
      "image/png": "[encoded data removed]",
      "text/plain": [
       "<Figure size 640x480 with 1 Axes>"
      ]
     },
     "metadata": {},
     "output_type": "display_data"
    }
   ],
   "source": [
    "# Assuming you have your model, X_test, and y_test\n",
    "y_pred_prob = model.predict_proba(X_test_pca)[:, 1]  # Probability of positive class\n",
    "\n",
    "fpr, tpr, thresholds = roc_curve(y_test, y_pred_prob)\n",
    "roc_auc = roc_auc_score(y_test, y_pred_prob)\n",
    "\n",
    "plt.plot(fpr, tpr, label='ROC curve (area = %0.2f)' % roc_auc)\n",
    "plt.plot([0, 1], [0, 1], 'k--')  # Random guess line\n",
    "plt.xlim([0.0, 1.0])\n",
    "plt.ylim([0.0, 1.05])\n",
    "plt.xlabel('False Positive Rate')\n",
    "plt.ylabel('True Positive Rate')\n",
    "plt.title('Receiver Operating Characteristic')\n",
    "plt.legend(loc=\"lower right\")\n",
    "plt.show()"
   ]
  },
  {
   "cell_type": "code",
   "execution_count": null,
   "id": "0e9c1961-763e-4c83-b93f-9b9f86f72a1a",
   "metadata": {},
   "outputs": [],
   "source": []
  }
 ],
 "metadata": {
  "kernelspec": {
   "display_name": "Python 3 (ipykernel)",
   "language": "python",
   "name": "python3"
  },
  "language_info": {
   "codemirror_mode": {
    "name": "ipython",
    "version": 3
   },
   "file_extension": ".py",
   "mimetype": "text/x-python",
   "name": "python",
   "nbconvert_exporter": "python",
   "pygments_lexer": "ipython3",
   "version": "3.11.9"
  }
 },
 "nbformat": 4,
 "nbformat_minor": 5
}
